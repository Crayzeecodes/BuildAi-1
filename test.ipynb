{
 "cells": [
  {
   "cell_type": "code",
   "execution_count": 3,
   "id": "ecc52cd2",
   "metadata": {},
   "outputs": [
    {
     "name": "stderr",
     "output_type": "stream",
     "text": [
      "Created a chunk of size 1088, which is longer than the specified 1000\n"
     ]
    },
    {
     "name": "stdout",
     "output_type": "stream",
     "text": [
      "Total number of chunks: 123\n",
      "Document types found: {'knowledge-base\\\\employees\\\\Samantha Greene.md', 'knowledge-base\\\\company\\\\overview.md', 'knowledge-base\\\\contracts\\\\Contract with Roadway Insurance Inc. for Carllm.md', 'knowledge-base\\\\contracts\\\\Contract with BrightWay Solutions for Markellm.md', 'knowledge-base\\\\employees\\\\Emily Carter.md', 'knowledge-base\\\\contracts\\\\Contract with Velocity Auto Solutions for Carllm.md', 'knowledge-base\\\\contracts\\\\Contract with EverGuard Insurance for Rellm.md', 'knowledge-base\\\\products\\\\Carllm.md', 'knowledge-base\\\\employees\\\\Emily Tran.md', 'knowledge-base\\\\company\\\\about.md', 'knowledge-base\\\\employees\\\\Oliver Spencer.md', 'knowledge-base\\\\products\\\\Homellm.md', 'knowledge-base\\\\employees\\\\Alex Harper.md', 'knowledge-base\\\\contracts\\\\Contract with GreenValley Insurance for Homellm.md', 'knowledge-base\\\\employees\\\\Avery Lancaster.md', 'knowledge-base\\\\employees\\\\Alex Thomson.md', 'knowledge-base\\\\employees\\\\Alex Chen.md', 'knowledge-base\\\\products\\\\Markellm.md', 'knowledge-base\\\\employees\\\\Samuel Trenton.md', 'knowledge-base\\\\company\\\\careers.md', 'knowledge-base\\\\employees\\\\Jordan Blake.md', 'knowledge-base\\\\products\\\\Rellm.md', 'knowledge-base\\\\contracts\\\\Contract with TechDrive Insurance for Carllm.md', 'knowledge-base\\\\contracts\\\\Contract with Greenstone Insurance for Homellm.md', 'knowledge-base\\\\contracts\\\\Contract with Belvedere Insurance for Markellm.md', 'knowledge-base\\\\employees\\\\Jordan K. Bishop.md', 'knowledge-base\\\\contracts\\\\Contract with Stellar Insurance Co. for Rellm.md', 'knowledge-base\\\\employees\\\\Maxine Thompson.md', 'knowledge-base\\\\contracts\\\\Contract with GreenField Holdings for Markellm.md', 'knowledge-base\\\\contracts\\\\Contract with Apex Reinsurance for Rellm.md', 'knowledge-base\\\\contracts\\\\Contract with Pinnacle Insurance Co. for Homellm.md'}\n"
     ]
    },
    {
     "data": {
      "application/vnd.jupyter.widget-view+json": {
       "model_id": "21961f5ef3064224aa95c55ab5646859",
       "version_major": 2,
       "version_minor": 0
      },
      "text/plain": [
       "modules.json:   0%|          | 0.00/349 [00:00<?, ?B/s]"
      ]
     },
     "metadata": {},
     "output_type": "display_data"
    },
    {
     "name": "stderr",
     "output_type": "stream",
     "text": [
      "c:\\Users\\Zeeshan\\AppData\\Local\\Programs\\Python\\Python313\\Lib\\site-packages\\huggingface_hub\\file_download.py:143: UserWarning: `huggingface_hub` cache-system uses symlinks by default to efficiently store duplicated files but your machine does not support them in C:\\Users\\Zeeshan\\.cache\\huggingface\\hub\\models--sentence-transformers--all-MiniLM-L6-v2. Caching files will still work but in a degraded version that might require more space on your disk. This warning can be disabled by setting the `HF_HUB_DISABLE_SYMLINKS_WARNING` environment variable. For more details, see https://huggingface.co/docs/huggingface_hub/how-to-cache#limitations.\n",
      "To support symlinks on Windows, you either need to activate Developer Mode or to run Python as an administrator. In order to activate developer mode, see this article: https://docs.microsoft.com/en-us/windows/apps/get-started/enable-your-device-for-development\n",
      "  warnings.warn(message)\n"
     ]
    },
    {
     "data": {
      "application/vnd.jupyter.widget-view+json": {
       "model_id": "e9a8fa1df8ec41988703174ef8a0dc8b",
       "version_major": 2,
       "version_minor": 0
      },
      "text/plain": [
       "config_sentence_transformers.json:   0%|          | 0.00/116 [00:00<?, ?B/s]"
      ]
     },
     "metadata": {},
     "output_type": "display_data"
    },
    {
     "data": {
      "application/vnd.jupyter.widget-view+json": {
       "model_id": "69f88e54d29e4dea9ddd2ac9ba651da2",
       "version_major": 2,
       "version_minor": 0
      },
      "text/plain": [
       "README.md: 0.00B [00:00, ?B/s]"
      ]
     },
     "metadata": {},
     "output_type": "display_data"
    },
    {
     "data": {
      "application/vnd.jupyter.widget-view+json": {
       "model_id": "909ff990fcba40e396d56b6c0505bcdb",
       "version_major": 2,
       "version_minor": 0
      },
      "text/plain": [
       "sentence_bert_config.json:   0%|          | 0.00/53.0 [00:00<?, ?B/s]"
      ]
     },
     "metadata": {},
     "output_type": "display_data"
    },
    {
     "data": {
      "application/vnd.jupyter.widget-view+json": {
       "model_id": "27b2fbdd78cb46129d7dae1030345be3",
       "version_major": 2,
       "version_minor": 0
      },
      "text/plain": [
       "config.json:   0%|          | 0.00/612 [00:00<?, ?B/s]"
      ]
     },
     "metadata": {},
     "output_type": "display_data"
    },
    {
     "name": "stderr",
     "output_type": "stream",
     "text": [
      "Xet Storage is enabled for this repo, but the 'hf_xet' package is not installed. Falling back to regular HTTP download. For better performance, install the package with: `pip install huggingface_hub[hf_xet]` or `pip install hf_xet`\n"
     ]
    },
    {
     "data": {
      "application/vnd.jupyter.widget-view+json": {
       "model_id": "485856807e084cde8d1cca40ff139705",
       "version_major": 2,
       "version_minor": 0
      },
      "text/plain": [
       "model.safetensors:   0%|          | 0.00/90.9M [00:00<?, ?B/s]"
      ]
     },
     "metadata": {},
     "output_type": "display_data"
    },
    {
     "data": {
      "application/vnd.jupyter.widget-view+json": {
       "model_id": "d7297f5380424b7f95bb3f654e7177ca",
       "version_major": 2,
       "version_minor": 0
      },
      "text/plain": [
       "tokenizer_config.json:   0%|          | 0.00/350 [00:00<?, ?B/s]"
      ]
     },
     "metadata": {},
     "output_type": "display_data"
    },
    {
     "data": {
      "application/vnd.jupyter.widget-view+json": {
       "model_id": "1e7311bf4f744f9ebbe502243470f0bf",
       "version_major": 2,
       "version_minor": 0
      },
      "text/plain": [
       "vocab.txt: 0.00B [00:00, ?B/s]"
      ]
     },
     "metadata": {},
     "output_type": "display_data"
    },
    {
     "data": {
      "application/vnd.jupyter.widget-view+json": {
       "model_id": "07940f0b84984c109c4bb26e9dd4e1d3",
       "version_major": 2,
       "version_minor": 0
      },
      "text/plain": [
       "tokenizer.json: 0.00B [00:00, ?B/s]"
      ]
     },
     "metadata": {},
     "output_type": "display_data"
    },
    {
     "data": {
      "application/vnd.jupyter.widget-view+json": {
       "model_id": "940a2c0757dd490db7a2041fc1bc8e15",
       "version_major": 2,
       "version_minor": 0
      },
      "text/plain": [
       "special_tokens_map.json:   0%|          | 0.00/112 [00:00<?, ?B/s]"
      ]
     },
     "metadata": {},
     "output_type": "display_data"
    },
    {
     "data": {
      "application/vnd.jupyter.widget-view+json": {
       "model_id": "d44c55b751f544c8aabb8e07f922c39c",
       "version_major": 2,
       "version_minor": 0
      },
      "text/plain": [
       "config.json:   0%|          | 0.00/190 [00:00<?, ?B/s]"
      ]
     },
     "metadata": {},
     "output_type": "display_data"
    },
    {
     "name": "stdout",
     "output_type": "stream",
     "text": [
      "Vectorstore created with 123 documents\n"
     ]
    }
   ],
   "source": [
    "import os\n",
    "import glob\n",
    "from dotenv import load_dotenv\n",
    "import gradio as gr\n",
    "from typing import Dict, List, Tuple\n",
    "from langchain_community.document_loaders import DirectoryLoader, TextLoader\n",
    "from langchain_text_splitters import CharacterTextSplitter\n",
    "from langchain_core.documents import Document\n",
    "from langchain_groq import ChatGroq\n",
    "from langchain_chroma import Chroma\n",
    "from langchain_huggingface import HuggingFaceEmbeddings\n",
    "from langchain_community.chat_message_histories import ChatMessageHistory\n",
    "from langchain_core.chat_history import BaseChatMessageHistory\n",
    "from langchain_core.prompts import ChatPromptTemplate, MessagesPlaceholder\n",
    "from langchain.chains import create_history_aware_retriever, create_retrieval_chain\n",
    "from langchain_core.runnables.history import RunnableWithMessageHistory\n",
    "from langchain.chains.combine_documents import create_stuff_documents_chain\n",
    "\n",
    "\n",
    "# --- 1. Load environment variables and define constants ---\n",
    "load_dotenv()\n",
    "MODEL = \"openai/gpt-oss-120b\"\n",
    "db_name = \"vector_db\"\n",
    "\n",
    "# --- 2. Set up API keys ---\n",
    "if \"GROQ_API_KEY\" not in os.environ:\n",
    "    os.environ[\"GROQ_API_KEY\"] = getpass.getpass(\"Enter your Groq API key:\")\n",
    "\n",
    "# --- 3. Document Loading and Processing ---\n",
    "folders = glob.glob(\"knowledge-base/*\")\n",
    "text_loader_kwargs = {'encoding': 'utf-8'}\n",
    "documents = []\n",
    "for folder in folders:\n",
    "    doc_type = os.path.basename(folder)\n",
    "    loader = DirectoryLoader(folder, glob=\"**/*.md\", loader_cls=TextLoader, loader_kwargs=text_loader_kwargs)\n",
    "    folder_docs = loader.load()\n",
    "    documents.extend([doc for doc in folder_docs])\n",
    "\n",
    "\n",
    "# Split documents into chunks\n",
    "text_splitter = CharacterTextSplitter(chunk_size=1000, chunk_overlap=200)\n",
    "chunks = text_splitter.split_documents(documents)\n",
    "\n",
    "print(f\"Total number of chunks: {len(chunks)}\")\n",
    "print(f\"Document types found: {set(doc.metadata['source'] for doc in documents)}\")\n",
    "\n",
    "# --- 4. Create Embeddings and Vector Store ---\n",
    "embeddings = HuggingFaceEmbeddings(model_name=\"sentence-transformers/all-MiniLM-L6-v2\")\n",
    "\n",
    "# Clean up previous vector store if it exists\n",
    "if os.path.exists(db_name):\n",
    "    try:\n",
    "        import shutil\n",
    "        print(f\"Attempting to delete previous vector store at '{db_name}'.\")\n",
    "        shutil.rmtree(db_name)\n",
    "        print(\"Previous vector store deleted successfully.\")\n",
    "    except PermissionError as e:\n",
    "        print(f\"Warning: Could not delete the '{db_name}' directory due to a file lock. The process may be in use by another application or a previous run.\")\n",
    "        print(\"Please manually delete the folder or restart your Python kernel to resolve this issue.\")\n",
    "\n",
    "# Create vectorstore\n",
    "vectorstore = Chroma.from_documents(documents=chunks, embedding=embeddings, persist_directory=db_name)\n",
    "print(f\"Vectorstore created with {vectorstore._collection.count()} documents\")"
   ]
  },
  {
   "cell_type": "code",
   "execution_count": 4,
   "id": "569c6824",
   "metadata": {},
   "outputs": [
    {
     "name": "stderr",
     "output_type": "stream",
     "text": [
      "c:\\Users\\Zeeshan\\AppData\\Local\\Programs\\Python\\Python313\\Lib\\site-packages\\gradio\\chat_interface.py:348: UserWarning: The 'tuples' format for chatbot messages is deprecated and will be removed in a future version of Gradio. Please set type='messages' instead, which uses openai-style 'role' and 'content' keys.\n",
      "  self.chatbot = Chatbot(\n"
     ]
    },
    {
     "name": "stdout",
     "output_type": "stream",
     "text": [
      "* Running on local URL:  http://127.0.0.1:7860\n",
      "* To create a public link, set `share=True` in `launch()`.\n"
     ]
    },
    {
     "data": {
      "text/html": [
       "<div><iframe src=\"http://127.0.0.1:7860/\" width=\"100%\" height=\"500\" allow=\"autoplay; camera; microphone; clipboard-read; clipboard-write;\" frameborder=\"0\" allowfullscreen></iframe></div>"
      ],
      "text/plain": [
       "<IPython.core.display.HTML object>"
      ]
     },
     "metadata": {},
     "output_type": "display_data"
    },
    {
     "name": "stderr",
     "output_type": "stream",
     "text": [
      "Error in RootListenersTracer.on_chain_end callback: KeyError('output')\n",
      "Error in RootListenersTracer.on_chain_end callback: KeyError('output')\n",
      "Error in RootListenersTracer.on_chain_end callback: KeyError('output')\n"
     ]
    }
   ],
   "source": [
    "# --- 5. Define LLM and Memory Store ---\n",
    "llm = ChatGroq(model=MODEL, temperature=0.4, api_key=os.environ.get(\"GROQ_API_KEY\"))\n",
    "store: Dict[str, BaseChatMessageHistory] = {}\n",
    "\n",
    "def get_session_history(session_id: str) -> BaseChatMessageHistory:\n",
    "    \"\"\"\n",
    "    Function to retrieve or create a chat history for a given session ID.\n",
    "    This is required by RunnableWithMessageHistory.\n",
    "    \"\"\"\n",
    "    if session_id not in store:\n",
    "        store[session_id] = ChatMessageHistory()\n",
    "    return store[session_id]\n",
    "\n",
    "# --- 6. Create the RAG Chain with Memory ---\n",
    "# This prompt is used to guide the retrieval. It takes the chat history into account.\n",
    "contextualize_q_prompt = ChatPromptTemplate.from_messages([\n",
    "    MessagesPlaceholder(\"chat_history\"),\n",
    "    (\"user\", \"{input}\"),\n",
    "    (\"system\",\n",
    "     \"Given the user's previous questions and the current question, \"\n",
    "     \"rephrase the current question to be a standalone search query. Do NOT add any extra text.\"),\n",
    "])\n",
    "\n",
    "# Create a history-aware retriever\n",
    "history_aware_retriever = create_history_aware_retriever(llm, vectorstore.as_retriever(), contextualize_q_prompt)\n",
    "\n",
    "# This prompt is for the final answer generation, using retrieved documents.\n",
    "qa_prompt = ChatPromptTemplate.from_messages([\n",
    "    (\"system\",\n",
    "     \"You are a helpful assistant. Use the following context to answer the user's question, \"\n",
    "     \"and also use the chat history to maintain context. You sloud be able to solve logical queries also. \\n\\nContext: {context}\"),\n",
    "    MessagesPlaceholder(\"chat_history\"),\n",
    "    (\"user\", \"{input}\"),\n",
    "])\n",
    "\n",
    "# Create the document stuffing chain\n",
    "stuff_documents_chain = create_stuff_documents_chain(llm, qa_prompt)\n",
    "\n",
    "# Create the final retrieval chain\n",
    "rag_chain = create_retrieval_chain(history_aware_retriever, stuff_documents_chain)\n",
    "\n",
    "# Add chat history to the entire chain\n",
    "chain_with_history = RunnableWithMessageHistory(\n",
    "    rag_chain,\n",
    "    get_session_history,\n",
    "    input_messages_key=\"input\",\n",
    "    history_messages_key=\"chat_history\",\n",
    ")\n",
    "\n",
    "# --- 7. Gradio Chat Interface ---\n",
    "def chat_response(message: str, history: List[Tuple[str, str]]) -> str:\n",
    "    \"\"\"\n",
    "    Function to handle the chat interface logic.\n",
    "    \"\"\"\n",
    "    # Create a unique session ID for the Gradio session.\n",
    "    # The Gradio history is a list of lists, which is unhashable.\n",
    "    # We must convert it to a tuple of tuples to be used as a session ID.\n",
    "    session_id = str(hash(tuple(tuple(item) for item in history))) if history else \"gradio_session\"\n",
    "    \n",
    "    # Invoke the chain with the user's input and session config.\n",
    "    response = chain_with_history.invoke(\n",
    "        {\"input\": message},\n",
    "        config={\"configurable\": {\"session_id\": session_id}}\n",
    "    )\n",
    "    \n",
    "    return response['answer']\n",
    "\n",
    "# Define the Gradio interface\n",
    "iface = gr.ChatInterface(\n",
    "    fn=chat_response,\n",
    "    \n",
    "    title=\"InsureLM \",\n",
    "    description=\"Ask questions about the knowledge base.\",\n",
    "    examples=[\n",
    "        \"Details of Apex Reinsurance.\",\n",
    "        \"Details of all the products made by Company\",\n",
    "        \"Annual preformance history of Alex chen\",\n",
    "        \"Tell me about the company\"\n",
    "    ]\n",
    ")\n",
    "\n",
    "# Launch the Gradio app\n",
    "if __name__ == \"__main__\":\n",
    "    iface.launch()"
   ]
  },
  {
   "cell_type": "code",
   "execution_count": null,
   "id": "74eb2f6b",
   "metadata": {},
   "outputs": [],
   "source": []
  }
 ],
 "metadata": {
  "kernelspec": {
   "display_name": "Python 3",
   "language": "python",
   "name": "python3"
  },
  "language_info": {
   "codemirror_mode": {
    "name": "ipython",
    "version": 3
   },
   "file_extension": ".py",
   "mimetype": "text/x-python",
   "name": "python",
   "nbconvert_exporter": "python",
   "pygments_lexer": "ipython3",
   "version": "3.13.3"
  }
 },
 "nbformat": 4,
 "nbformat_minor": 5
}
